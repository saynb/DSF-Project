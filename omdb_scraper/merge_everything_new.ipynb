{
 "cells": [
  {
   "cell_type": "code",
   "execution_count": 46,
   "metadata": {
    "collapsed": false
   },
   "outputs": [],
   "source": [
    "import io\n",
    "import pandas as pd\n",
    "import re\n",
    "import numpy as np\n",
    "\n",
    "data = pd.read_csv('movie_data_new.csv', header=None, names=['New Book Name','ID','Link','Budget','Gross','Opening','Release Date'], sep='\\t')\n",
    "\n",
    "data['Link'] = data['Link'].map(lambda x: re.search(\"(.*?)business\", x).group(1).strip())\n",
    "\n",
    "book_data = pd.read_csv('goodreads_data_modified.csv', encoding='utf-8')\n",
    "\n",
    "book_data = book_data.drop('Unnamed: 0', axis=1)\n",
    "\n",
    "book_data = book_data.drop_duplicates()\n",
    "data = data.drop_duplicates()"
   ]
  },
  {
   "cell_type": "code",
   "execution_count": 47,
   "metadata": {
    "collapsed": false
   },
   "outputs": [],
   "source": [
    "Merged = pd.merge(data, book_data, how='left', on='New Book Name', suffixes=('_x', '_y'))"
   ]
  },
  {
   "cell_type": "code",
   "execution_count": 48,
   "metadata": {
    "collapsed": false
   },
   "outputs": [
    {
     "data": {
      "text/plain": [
       "1278"
      ]
     },
     "execution_count": 48,
     "metadata": {},
     "output_type": "execute_result"
    }
   ],
   "source": [
    "Merged = Merged.drop_duplicates()\n",
    "Merged = Merged.set_index([range(Merged['Link'].values.size)])\n",
    "\n",
    "Merged['New Book Name'].values.size"
   ]
  },
  {
   "cell_type": "code",
   "execution_count": 49,
   "metadata": {
    "collapsed": false
   },
   "outputs": [
    {
     "data": {
      "text/plain": [
       "1214"
      ]
     },
     "execution_count": 49,
     "metadata": {},
     "output_type": "execute_result"
    }
   ],
   "source": [
    "Merged = Merged.groupby('New Book Name', as_index=False).max()\n",
    "\n",
    "Merged['New Book Name'].values.size"
   ]
  },
  {
   "cell_type": "code",
   "execution_count": 50,
   "metadata": {
    "collapsed": false
   },
   "outputs": [],
   "source": [
    "Merged.to_csv('Merged_Dataset_new.csv', encoding='utf-8')"
   ]
  },
  {
   "cell_type": "code",
   "execution_count": null,
   "metadata": {
    "collapsed": true
   },
   "outputs": [],
   "source": []
  }
 ],
 "metadata": {
  "kernelspec": {
   "display_name": "Python 2",
   "language": "python",
   "name": "python2"
  },
  "language_info": {
   "codemirror_mode": {
    "name": "ipython",
    "version": 2
   },
   "file_extension": ".py",
   "mimetype": "text/x-python",
   "name": "python",
   "nbconvert_exporter": "python",
   "pygments_lexer": "ipython2",
   "version": "2.7.11"
  }
 },
 "nbformat": 4,
 "nbformat_minor": 0
}
