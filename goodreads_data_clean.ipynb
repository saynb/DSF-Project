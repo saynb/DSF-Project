{
 "cells": [
  {
   "cell_type": "code",
   "execution_count": 1,
   "metadata": {
    "collapsed": false
   },
   "outputs": [
    {
     "name": "stderr",
     "output_type": "stream",
     "text": [
      "/usr/local/lib/python2.7/site-packages/sklearn/cross_validation.py:44: DeprecationWarning: This module was deprecated in version 0.18 in favor of the model_selection module into which all the refactored classes and functions are moved. Also note that the interface of the new CV iterators are different from that of this module. This module will be removed in 0.20.\n",
      "  \"This module will be removed in 0.20.\", DeprecationWarning)\n"
     ]
    }
   ],
   "source": [
    "%matplotlib inline\n",
    "import matplotlib as mlp\n",
    "import scipy\n",
    "import numpy as np\n",
    "import sympy\n",
    "import matplotlib.pyplot as plt\n",
    "import pandas as pd\n",
    "from sklearn.preprocessing import scale\n",
    "from scipy.stats.stats import spearmanr \n",
    "from sklearn.linear_model import LinearRegression\n",
    "from sklearn import cross_validation\n",
    "from sklearn import metrics\n",
    "import scipy.sparse as sps\n",
    "import math\n",
    "from bs4 import BeautifulSoup\n",
    "import math as mt\n",
    "import requests\n",
    "import re\n",
    "import fileinput\n",
    "import operator\n",
    "# import sys\n"
   ]
  },
  {
   "cell_type": "code",
   "execution_count": 2,
   "metadata": {
    "collapsed": false
   },
   "outputs": [
    {
     "name": "stdout",
     "output_type": "stream",
     "text": [
      "Is any star nan:  False\n",
      "Number of non digit editions:  32\n",
      "5\n",
      "4\n",
      "3\n",
      "2\n",
      "1\n",
      "Number of floats/int pages:  32\n",
      "Awards List         False\n",
      "Book Name           False\n",
      "Characters          False\n",
      "Genres              False\n",
      "Num_reviews          True\n",
      "Other editions       True\n",
      "Pages                True\n",
      "Star votes          False\n",
      "Stars                True\n",
      "publish_date        False\n",
      "Award Count          True\n",
      "New Book Name       False\n",
      "Num Characters       True\n",
      "Star_count_5         True\n",
      "Star_count_4         True\n",
      "Star_count_3         True\n",
      "Star_count_2         True\n",
      "Star_count_1         True\n",
      "Star_count_total     True\n",
      "dtype: bool\n"
     ]
    }
   ],
   "source": [
    "#TODO :\n",
    "# 1. Create columns for genres\n",
    "# 2. based upon correlation with score vs genres, we can make our final predict_score better\n",
    "\n",
    "df_book_info = pd.read_csv('goodreads_data_new.csv', sep=',')\n",
    "\n",
    "#### Remove the unnecessary row and reset index\n",
    "df_book_info = df_book_info.drop(df_book_info.index[[1]])\n",
    "df_book_info = df_book_info.reset_index(drop=True)\n",
    "\n",
    "#### Make a new column for award count\n",
    "df_book_info['Awards List']=df_book_info['Awards List'].fillna('')\n",
    "count = df_book_info['Awards List'].map(lambda x: len(str(x).split(',')) if x!='' else 0)\n",
    "df_book_info['Award Count'] = count\n",
    "\n",
    "#### Drop not required unnamed column\n",
    "df_book_info = df_book_info.drop(df_book_info.columns[[0, 1]], axis=1)\n",
    "\n",
    "#### Clean book name for merging\n",
    "book_name_list =  df_book_info['Book Name'].tolist()\n",
    "new_list = []\n",
    "for one_string in book_name_list:\n",
    "    m = re.search(\"(.*?)(\\(|$)\", one_string)\n",
    "    new_list.append(m.group(1).strip())\n",
    "\n",
    "#### Set new book name\n",
    "df_book_info['New Book Name'] = new_list\n",
    "\n",
    "#### Drop duplicates\n",
    "df_book_info.drop_duplicates('New Book Name',inplace=True)\n",
    "df_book_info = df_book_info.reset_index(drop=True)\n",
    "\n",
    "#### Clean Number of reviews\n",
    "df_book_info['Num_reviews'] = df_book_info['Num_reviews'].astype('str').map(lambda x: int(str(x).replace(',', '')) if (x!='nan') else np.NaN)\n",
    "\n",
    "#### Calculate number of Characters\n",
    "df_book_info['Num Characters'] = df_book_info['Characters'].astype('str').map(lambda x: 0 if (x=='nan' or x=='[]') else len(x.split(',')))\n",
    "\n",
    "#### Clean stars\n",
    "df_book_info['Stars'] = pd.to_numeric(df_book_info['Stars'])\n",
    "print \"Is any star nan: \",df_book_info['Stars'].map(lambda x: mt.isnan(x)).any(0)\n",
    "\n",
    "#### Clean Other editions\n",
    "print \"Number of non digit editions: \",df_book_info['Other editions'].map(lambda x: not x.isdigit()).sum()\n",
    "df_book_info['Other editions'] = df_book_info['Other editions'].map(lambda x: int(x) if x.isdigit() else 0)\n",
    "\n",
    "#### Split star counts\n",
    "temp = df_book_info['Star votes'].astype('str').map(lambda x: x[1:-1].split(',') if (x!='nan') else '')\n",
    "for star_rating in range(5,0,-1):\n",
    "    print star_rating\n",
    "    df_book_info['Star_count_'+str(star_rating)] = temp.map(lambda x: int(x[star_rating-1]))\n",
    "\n",
    "#### Sum star counts\n",
    "df_book_info['Star_count_total'] = temp.map(lambda x: sum(map(int,x)))\n",
    "\n",
    "#### Clean pages\n",
    "print \"Number of floats/int pages: \", df_book_info['Pages'].map(lambda x: isinstance(x, (int, float))).sum()\n",
    "df_book_info['Pages'] = df_book_info['Pages'].map(lambda x: int((x.split())[0]) if not isinstance(x, (int, float)) else 0)\n",
    "\n",
    "\n",
    "print df_book_info.applymap(lambda x: isinstance(x, (int, float))).all(0)\n"
   ]
  },
  {
   "cell_type": "code",
   "execution_count": 3,
   "metadata": {
    "collapsed": false
   },
   "outputs": [
    {
     "name": "stdout",
     "output_type": "stream",
     "text": [
      "[('Fiction', 1352), ('Fantasy', 630), ('Classics', 591), ('Mystery', 540), ('Young Adult', 420), ('Romance', 405), ('Literature', 396), ('Historical Fiction', 350), ('Thriller', 313), ('Childrens', 283), ('Science Fiction', 275), ('Novels', 227), ('Contemporary', 225), ('Adventure', 191), ('Crime', 188), ('Cultural', 187), ('Sequential Art', 180), ('Historical', 174), ('Humor', 169), ('Horror', 165), ('Paranormal', 157), ('Nonfiction', 146), ('War', 130), ('European Literature', 124), ('Biography', 112), ('Womens Fiction', 106), ('Suspense', 102), ('Chick Lit', 101), ('Adult', 91), ('Autobiography', 91), ('History', 89)]\n",
      "1717\n",
      "1717\n"
     ]
    }
   ],
   "source": [
    "genre_dict = dict()\n",
    "\n",
    "temp = df_book_info['Genres'].astype('str').map(lambda x: x[1:-1].split(',') if (x!='nan') else '')\n",
    "temp = temp.map(lambda x: [i.strip() for i in x])\n",
    "\n",
    "arr = temp.values\n",
    "\n",
    "for i in range(len(arr)):\n",
    "    for j in range(len(arr[i])):\n",
    "        try:\n",
    "            genre_dict[arr[i][j].strip()] +=1\n",
    "        except Exception:\n",
    "            genre_dict[arr[i][j].strip()] = 1\n",
    "            \n",
    "genre_dict = sorted(genre_dict.items(), key=operator.itemgetter(1), reverse=True)\n",
    "print genre_dict[:31]\n",
    "\n",
    "\n",
    "def check(x,genre_num):\n",
    "    #print genre_dict\n",
    "    if (genre_dict[genre_num][0] in x):\n",
    "        return 1\n",
    "    else:\n",
    "        return 0\n",
    "\n",
    "for genre_num in range(0,31):\n",
    "    df_book_info['Genre_'+genre_dict[genre_num][0]] = temp.map(lambda x: check(x,genre_num))\n",
    "\n",
    "\n",
    "print len(df_book_info)\n",
    "print len(df_book_info.groupby('New Book Name', as_index=False).max())\n",
    "\n"
   ]
  },
  {
   "cell_type": "code",
   "execution_count": 4,
   "metadata": {
    "collapsed": true
   },
   "outputs": [],
   "source": [
    "\n",
    "\n",
    "\n",
    "df_book_info.to_csv('goodreads_data_modified.csv')\n"
   ]
  },
  {
   "cell_type": "code",
   "execution_count": null,
   "metadata": {
    "collapsed": true
   },
   "outputs": [],
   "source": []
  }
 ],
 "metadata": {
  "kernelspec": {
   "display_name": "Python 2",
   "language": "python",
   "name": "python2"
  },
  "language_info": {
   "codemirror_mode": {
    "name": "ipython",
    "version": 2
   },
   "file_extension": ".py",
   "mimetype": "text/x-python",
   "name": "python",
   "nbconvert_exporter": "python",
   "pygments_lexer": "ipython2",
   "version": "2.7.12"
  }
 },
 "nbformat": 4,
 "nbformat_minor": 1
}
