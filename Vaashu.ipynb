{
 "cells": [
  {
   "cell_type": "code",
   "execution_count": 67,
   "metadata": {
    "collapsed": false
   },
   "outputs": [
    {
     "name": "stdout",
     "output_type": "stream",
     "text": [
      "0        8\n",
      "1        1\n",
      "2       22\n",
      "3        7\n",
      "4       12\n",
      "5        8\n",
      "6       24\n",
      "7        7\n",
      "8        2\n",
      "9       18\n",
      "10       0\n",
      "11       2\n",
      "12       7\n",
      "13       2\n",
      "14       4\n",
      "15      13\n",
      "16       5\n",
      "17       5\n",
      "18       0\n",
      "19       4\n",
      "20       5\n",
      "21      18\n",
      "22      33\n",
      "23       2\n",
      "24       1\n",
      "25       0\n",
      "26       1\n",
      "27       2\n",
      "28       0\n",
      "29       1\n",
      "        ..\n",
      "2178     0\n",
      "2179     1\n",
      "2180     1\n",
      "2181     0\n",
      "2182     1\n",
      "2183     0\n",
      "2184     0\n",
      "2185     0\n",
      "2186     1\n",
      "2187     0\n",
      "2188     6\n",
      "2189     1\n",
      "2190     0\n",
      "2191     0\n",
      "2192     1\n",
      "2193     0\n",
      "2194     0\n",
      "2195     0\n",
      "2196     0\n",
      "2197     0\n",
      "2198     0\n",
      "2199     0\n",
      "2200     0\n",
      "2201     0\n",
      "2202     1\n",
      "2203     0\n",
      "2204     0\n",
      "2205     0\n",
      "2206     6\n",
      "2207     0\n",
      "Name: Award Count, dtype: int64\n"
     ]
    }
   ],
   "source": [
    "import pandas as pd\n",
    "import numpy as np\n",
    "\n",
    "df_book_info = pd.read_csv('/Users/VaashuSharma/DSF-Project/book_info.csv', sep=',')\n",
    "df_book_info['Awards List']=df_book_info['Awards List'].fillna('')\n",
    "count = df_book_info['Awards List'].map(lambda x: len(str(x).split(',')) if x!='' else 0)\n",
    "df_book_info['Award Count'] = count\n",
    "print df_book_info['Award Count']\n",
    "\n",
    "df_book_info.to_csv('/Users/VaashuSharma/DSF-Project/book_info.csv')"
   ]
  },
  {
   "cell_type": "code",
   "execution_count": null,
   "metadata": {
    "collapsed": true
   },
   "outputs": [],
   "source": []
  }
 ],
 "metadata": {
  "kernelspec": {
   "display_name": "Python 2",
   "language": "python",
   "name": "python2"
  },
  "language_info": {
   "codemirror_mode": {
    "name": "ipython",
    "version": 2
   },
   "file_extension": ".py",
   "mimetype": "text/x-python",
   "name": "python",
   "nbconvert_exporter": "python",
   "pygments_lexer": "ipython2",
   "version": "2.7.12"
  }
 },
 "nbformat": 4,
 "nbformat_minor": 1
}
