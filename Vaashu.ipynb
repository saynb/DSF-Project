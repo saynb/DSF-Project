{
 "cells": [
  {
   "cell_type": "code",
   "execution_count": 28,
   "metadata": {
    "collapsed": false
   },
   "outputs": [
    {
     "name": "stdout",
     "output_type": "stream",
     "text": [
      "[777962, 367578, 103529, 26031, 17703]\n"
     ]
    }
   ],
   "source": [
    "from bs4 import BeautifulSoup\n",
    "import requests\n",
    "import re\n",
    "\n",
    "\n",
    "def clean_text(text):\n",
    "    \"\"\" Removes white-spaces before, after, and between characters\n",
    "\n",
    "    :param text: the string to remove clean\n",
    "    :return: a \"cleaned\" string with no more than one white space between\n",
    "    characters\n",
    "    \"\"\"\n",
    "    return ' '.join(text.split())\n",
    "\n",
    "\n",
    "\"\"\" Go to the IMDb Movie page in link, and find the cast overview list.\n",
    "    Prints tab-separated movie_title, actor_name, and character_played to\n",
    "    stdout as a result.\n",
    "\"\"\"\n",
    "link = 'https://www.goodreads.com/book/show/13496.A_Game_of_Thrones?ac=1&from_search=true'\n",
    "movie_page = requests.get(link)\n",
    "\n",
    "soup = BeautifulSoup(movie_page.content,'html.parser')\n",
    "    \n",
    "script_text = []\n",
    "for x in soup.find_all('script',attrs={'type':'text/javascript+protovis'}):\n",
    "    script_text.append(str(x))   \n",
    "\n",
    "m = re.search('.*renderRatingGraph\\(\\[(.*)\\]\\).*', script_text[0])\n",
    "if m:\n",
    "    rating_values_str = m.group(1)\n",
    "\n",
    "rating_values_list = found.split(\",\")\n",
    "\n",
    "#Convert list values to int\n",
    "\n",
    "rating_values_list = [ int(x) for x in rating_values_list ]\n",
    "print rating_values_list"
   ]
  },
  {
   "cell_type": "code",
   "execution_count": null,
   "metadata": {
    "collapsed": true
   },
   "outputs": [],
   "source": []
  }
 ],
 "metadata": {
  "kernelspec": {
   "display_name": "Python 2",
   "language": "python",
   "name": "python2"
  },
  "language_info": {
   "codemirror_mode": {
    "name": "ipython",
    "version": 2
   },
   "file_extension": ".py",
   "mimetype": "text/x-python",
   "name": "python",
   "nbconvert_exporter": "python",
   "pygments_lexer": "ipython2",
   "version": "2.7.12"
  }
 },
 "nbformat": 4,
 "nbformat_minor": 1
}
