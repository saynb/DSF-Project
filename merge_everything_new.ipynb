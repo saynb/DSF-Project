{
 "cells": [
  {
   "cell_type": "code",
   "execution_count": 218,
   "metadata": {
    "collapsed": false
   },
   "outputs": [],
   "source": [
    "import io\n",
    "import pandas as pd\n",
    "import re\n",
    "import numpy as np\n",
    "\n",
    "data = pd.read_csv('movie_data_new.csv', header=None, names=['New Book Name','ID','Link','Budget','Gross','Opening','Release Date'], sep='\\t')\n",
    "\n",
    "data['Link'] = data['Link'].map(lambda x: re.search(\"(.*?)business\", x).group(1).strip())\n",
    "\n",
    "book_data = pd.read_csv('goodreads_data_modified.csv', encoding='utf-8')\n",
    "\n",
    "book_data = book_data.drop('Unnamed: 0', axis=1)\n",
    "\n",
    "book_data = book_data.drop_duplicates()\n",
    "data = data.drop_duplicates()"
   ]
  },
  {
   "cell_type": "code",
   "execution_count": 219,
   "metadata": {
    "collapsed": false
   },
   "outputs": [],
   "source": [
    "Merged = pd.merge(data, book_data, how='left', on='New Book Name', suffixes=('_x', '_y'))"
   ]
  },
  {
   "cell_type": "code",
   "execution_count": 220,
   "metadata": {
    "collapsed": false
   },
   "outputs": [
    {
     "data": {
      "text/plain": [
       "1214"
      ]
     },
     "execution_count": 220,
     "metadata": {},
     "output_type": "execute_result"
    }
   ],
   "source": [
    "Merged = Merged.drop_duplicates()\n",
    "Merged = Merged.set_index([range(Merged['Link'].values.size)])\n",
    "\n",
    "Merged['New Book Name'].values.size"
   ]
  },
  {
   "cell_type": "code",
   "execution_count": 221,
   "metadata": {
    "collapsed": false
   },
   "outputs": [
    {
     "data": {
      "text/plain": [
       "1214"
      ]
     },
     "execution_count": 221,
     "metadata": {},
     "output_type": "execute_result"
    }
   ],
   "source": [
    "Merged = Merged.groupby('New Book Name', as_index=False).max()\n",
    "\n",
    "Merged['New Book Name'].values.size"
   ]
  },
  {
   "cell_type": "code",
   "execution_count": 222,
   "metadata": {
    "collapsed": false
   },
   "outputs": [],
   "source": [
    "Merged.to_csv('Merged_Dataset_new.csv', encoding='utf-8')"
   ]
  },
  {
   "cell_type": "code",
   "execution_count": null,
   "metadata": {
    "collapsed": false
   },
   "outputs": [],
   "source": []
  },
  {
   "cell_type": "code",
   "execution_count": 235,
   "metadata": {
    "collapsed": false
   },
   "outputs": [
    {
     "name": "stderr",
     "output_type": "stream",
     "text": [
      "C:\\Users\\HP\\AppData\\Local\\Enthought\\Canopy\\User\\lib\\site-packages\\ipykernel\\__main__.py:51: FutureWarning: the coerce=True keyword is deprecated, use errors='coerce' instead\n"
     ]
    }
   ],
   "source": [
    "import datetime\n",
    "from datetime import datetime\n",
    "from dateutil import parser\n",
    "\n",
    "def convert_to_datetime_publishdate(x):\n",
    "    if(x!='None'): \n",
    "        try:\n",
    "            arr = x.split(' ')\n",
    "            x = arr[0].strip()+' '+re.search('(.*?)\\D', arr[1].strip()).group(1)+' '+arr[2].strip()\n",
    "            #print type(x)\n",
    "            #datetime_obj = datetime.strftime(x , '%B %d %Y')\n",
    "            #print type(datetime_obj)\n",
    "            datetime_obj = parser.parse(x)\n",
    "            return datetime_obj\n",
    "        except Exception:\n",
    "            try:\n",
    "                arr = x.split(' ')\n",
    "                x = arr[0].strip()+' '+arr[1].strip()\n",
    "                #print x\n",
    "                #datetime_obj = datetime.strptime(x, '%B %Y')\n",
    "                datetime_obj = parser.parse(x)\n",
    "                return datetime_obj\n",
    "            except Exception:\n",
    "                try:\n",
    "                    arr = x.split('-')\n",
    "                    x = arr[0].strip()+' '+arr[1].strip()\n",
    "                    #print x\n",
    "                    #datetime_obj = datetime.strptime(x, '%b %y')\n",
    "                    datetime_obj = parser.parse(x)\n",
    "                    return datetime_obj\n",
    "                except Exception:\n",
    "                    try:\n",
    "                        x = x.strip()\n",
    "                        #print x\n",
    "                        #datetime_obj = datetime.strptime(x, '%Y')\n",
    "                        datetime_obj = parser.parse(x)\n",
    "                        return datetime_obj\n",
    "                    except Exception:\n",
    "                        x = x.strip()\n",
    "                        x = '0'+x\n",
    "                        #print x\n",
    "                        #datetime_obj = datetime.strptime(x, '%Y')\n",
    "                        datetime_obj = parser.parse(x)\n",
    "                        return datetime_obj\n",
    "    else:\n",
    "        return np.datetime64('NaT')\n",
    "    \n",
    "Merged['publish_date'] = Merged['publish_date'].fillna(np.datetime64('NaT'))\n",
    "Merged['publish_date'] = Merged['publish_date'].astype('str').map(convert_to_datetime_publishdate)\n",
    "\n",
    "Merged['publish_date']= pd.to_datetime(Merged['publish_date'], coerce=True)\n"
   ]
  },
  {
   "cell_type": "code",
   "execution_count": null,
   "metadata": {
    "collapsed": false
   },
   "outputs": [],
   "source": []
  },
  {
   "cell_type": "code",
   "execution_count": 237,
   "metadata": {
    "collapsed": false
   },
   "outputs": [],
   "source": [
    "def convert_to_datetime_releasedate(x):\n",
    "    if(x!='nan'):\n",
    "        try:\n",
    "            arr = x.split(' ')\n",
    "            x = arr[0].strip()+' '+arr[1].strip()+' '+arr[2].strip()\n",
    "            datetime_obj = datetime.strptime(x , '%d %B %Y')\n",
    "            return datetime_obj\n",
    "        except IndexError:\n",
    "            try:\n",
    "                arr = x.split(' ')\n",
    "                x = arr[0].strip()+' '+arr[1].strip()\n",
    "                datetime_obj = datetime.strptime(x, '%B %Y')\n",
    "                return datetime_obj\n",
    "            except IndexError:\n",
    "                x = x.strip()\n",
    "                datetime_obj = datetime.strptime(x, '%Y')\n",
    "                return datetime_obj\n",
    "    else:\n",
    "        return x\n",
    "\n",
    "Merged['Release Date'] = Merged['Release Date'].astype('str').map(convert_to_datetime_releasedate)"
   ]
  },
  {
   "cell_type": "code",
   "execution_count": 239,
   "metadata": {
    "collapsed": false
   },
   "outputs": [],
   "source": [
    "Merged['Time Diff'] = Merged['Release Date']-Merged['publish_date']"
   ]
  },
  {
   "cell_type": "code",
   "execution_count": 240,
   "metadata": {
    "collapsed": false
   },
   "outputs": [
    {
     "data": {
      "text/plain": [
       "0              NaT\n",
       "1      -12079 days\n",
       "2       13071 days\n",
       "3        2427 days\n",
       "4              NaT\n",
       "5        3008 days\n",
       "6              NaT\n",
       "7        4347 days\n",
       "8        1302 days\n",
       "9              NaT\n",
       "10      60594 days\n",
       "11       1122 days\n",
       "12     -33187 days\n",
       "13       1091 days\n",
       "14       6658 days\n",
       "15             NaT\n",
       "16        981 days\n",
       "17       2848 days\n",
       "18             NaT\n",
       "19      13648 days\n",
       "20      33760 days\n",
       "21             NaT\n",
       "22             NaT\n",
       "23             NaT\n",
       "24      21965 days\n",
       "25       1458 days\n",
       "26             NaT\n",
       "27       6014 days\n",
       "28             NaT\n",
       "29      10454 days\n",
       "           ...    \n",
       "1184      355 days\n",
       "1185     7754 days\n",
       "1186     1792 days\n",
       "1187     2149 days\n",
       "1188           NaT\n",
       "1189           NaT\n",
       "1190     7598 days\n",
       "1191      915 days\n",
       "1192      650 days\n",
       "1193     1944 days\n",
       "1194     4573 days\n",
       "1195    16744 days\n",
       "1196      762 days\n",
       "1197    -9240 days\n",
       "1198           NaT\n",
       "1199     1033 days\n",
       "1200     9621 days\n",
       "1201      -76 days\n",
       "1202           NaT\n",
       "1203     1311 days\n",
       "1204    11021 days\n",
       "1205           NaT\n",
       "1206      954 days\n",
       "1207           NaT\n",
       "1208     1809 days\n",
       "1209           NaT\n",
       "1210    33352 days\n",
       "1211     1102 days\n",
       "1212     1259 days\n",
       "1213     6004 days\n",
       "Name: Time Diff, dtype: timedelta64[ns]"
      ]
     },
     "execution_count": 240,
     "metadata": {},
     "output_type": "execute_result"
    }
   ],
   "source": [
    "Merged['Time Diff']"
   ]
  }
 ],
 "metadata": {
  "kernelspec": {
   "display_name": "Python 2",
   "language": "python",
   "name": "python2"
  },
  "language_info": {
   "codemirror_mode": {
    "name": "ipython",
    "version": 2
   },
   "file_extension": ".py",
   "mimetype": "text/x-python",
   "name": "python",
   "nbconvert_exporter": "python",
   "pygments_lexer": "ipython2",
   "version": "2.7.11"
  }
 },
 "nbformat": 4,
 "nbformat_minor": 0
}
