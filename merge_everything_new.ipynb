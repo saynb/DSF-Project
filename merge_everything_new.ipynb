{
 "cells": [
  {
   "cell_type": "code",
   "execution_count": 9,
   "metadata": {
    "collapsed": false
   },
   "outputs": [],
   "source": [
    "import io\n",
    "import pandas as pd\n",
    "import re\n",
    "import numpy as np\n",
    "\n",
    "data = pd.read_csv('movie_data_new.csv', header=None, names=['New Book Name','ID','Link','Budget','Gross','Opening','Release Date'], sep='\\t')\n",
    "\n",
    "data['Link'] = data['Link'].map(lambda x: re.search(\"(.*?)business\", x).group(1).strip())\n",
    "\n",
    "book_data = pd.read_csv('goodreads_data_modified.csv', encoding='utf-8')\n",
    "\n",
    "book_data = book_data.drop('Unnamed: 0', axis=1)\n",
    "\n",
    "book_data = book_data.drop_duplicates()\n",
    "data = data.drop_duplicates()"
   ]
  },
  {
   "cell_type": "code",
   "execution_count": 10,
   "metadata": {
    "collapsed": false
   },
   "outputs": [],
   "source": [
    "Merged = pd.merge(data, book_data, how='left', on='New Book Name', suffixes=('_x', '_y'))"
   ]
  },
  {
   "cell_type": "code",
   "execution_count": 11,
   "metadata": {
    "collapsed": false
   },
   "outputs": [
    {
     "data": {
      "text/plain": [
       "1214"
      ]
     },
     "execution_count": 11,
     "metadata": {},
     "output_type": "execute_result"
    }
   ],
   "source": [
    "Merged = Merged.drop_duplicates()\n",
    "Merged = Merged.set_index([range(Merged['Link'].values.size)])\n",
    "\n",
    "Merged['New Book Name'].values.size"
   ]
  },
  {
   "cell_type": "code",
   "execution_count": 12,
   "metadata": {
    "collapsed": false
   },
   "outputs": [
    {
     "data": {
      "text/plain": [
       "1214"
      ]
     },
     "execution_count": 12,
     "metadata": {},
     "output_type": "execute_result"
    }
   ],
   "source": [
    "Merged = Merged.groupby('New Book Name', as_index=False).max()\n",
    "\n",
    "Merged['New Book Name'].values.size"
   ]
  },
  {
   "cell_type": "code",
   "execution_count": null,
   "metadata": {
    "collapsed": false
   },
   "outputs": [],
   "source": []
  },
  {
   "cell_type": "code",
   "execution_count": null,
   "metadata": {
    "collapsed": false
   },
   "outputs": [],
   "source": []
  },
  {
   "cell_type": "code",
   "execution_count": 13,
   "metadata": {
    "collapsed": false
   },
   "outputs": [
    {
     "name": "stderr",
     "output_type": "stream",
     "text": [
      "/usr/local/lib/python2.7/site-packages/ipykernel/__main__.py:51: FutureWarning: the coerce=True keyword is deprecated, use errors='coerce' instead\n"
     ]
    }
   ],
   "source": [
    "import datetime\n",
    "from datetime import datetime\n",
    "from dateutil import parser\n",
    "\n",
    "def convert_to_datetime_publishdate(x):\n",
    "    if(x!='None'): \n",
    "        try:\n",
    "            arr = x.split(' ')\n",
    "            x = arr[0].strip()+' '+re.search('(.*?)\\D', arr[1].strip()).group(1)+' '+arr[2].strip()\n",
    "            #print type(x)\n",
    "            #datetime_obj = datetime.strftime(x , '%B %d %Y')\n",
    "            #print type(datetime_obj)\n",
    "            datetime_obj = parser.parse(x)\n",
    "            return datetime_obj\n",
    "        except Exception:\n",
    "            try:\n",
    "                arr = x.split(' ')\n",
    "                x = arr[0].strip()+' '+arr[1].strip()\n",
    "                #print x\n",
    "                #datetime_obj = datetime.strptime(x, '%B %Y')\n",
    "                datetime_obj = parser.parse(x)\n",
    "                return datetime_obj\n",
    "            except Exception:\n",
    "                try:\n",
    "                    arr = x.split('-')\n",
    "                    x = arr[0].strip()+' '+arr[1].strip()\n",
    "                    #print x\n",
    "                    #datetime_obj = datetime.strptime(x, '%b %y')\n",
    "                    datetime_obj = parser.parse(x)\n",
    "                    return datetime_obj\n",
    "                except Exception:\n",
    "                    try:\n",
    "                        x = x.strip()\n",
    "                        #print x\n",
    "                        #datetime_obj = datetime.strptime(x, '%Y')\n",
    "                        datetime_obj = parser.parse(x)\n",
    "                        return datetime_obj\n",
    "                    except Exception:\n",
    "                        x = x.strip()\n",
    "                        x = '0'+x\n",
    "                        #print x\n",
    "                        #datetime_obj = datetime.strptime(x, '%Y')\n",
    "                        datetime_obj = parser.parse(x)\n",
    "                        return datetime_obj\n",
    "    else:\n",
    "        return np.datetime64('NaT')\n",
    "    \n",
    "Merged['publish_date'] = Merged['publish_date'].fillna(np.datetime64('NaT'))\n",
    "Merged['publish_date'] = Merged['publish_date'].astype('str').map(convert_to_datetime_publishdate)\n",
    "\n",
    "Merged['publish_date']= pd.to_datetime(Merged['publish_date'], coerce=True)\n"
   ]
  },
  {
   "cell_type": "code",
   "execution_count": null,
   "metadata": {
    "collapsed": false
   },
   "outputs": [],
   "source": []
  },
  {
   "cell_type": "code",
   "execution_count": 14,
   "metadata": {
    "collapsed": false
   },
   "outputs": [],
   "source": [
    "def convert_to_datetime_releasedate(x):\n",
    "    if(x!='nan'):\n",
    "        try:\n",
    "            arr = x.split(' ')\n",
    "            x = arr[0].strip()+' '+arr[1].strip()+' '+arr[2].strip()\n",
    "            datetime_obj = datetime.strptime(x , '%d %B %Y')\n",
    "            return datetime_obj\n",
    "        except IndexError:\n",
    "            try:\n",
    "                arr = x.split(' ')\n",
    "                x = arr[0].strip()+' '+arr[1].strip()\n",
    "                datetime_obj = datetime.strptime(x, '%B %Y')\n",
    "                return datetime_obj\n",
    "            except IndexError:\n",
    "                x = x.strip()\n",
    "                datetime_obj = datetime.strptime(x, '%Y')\n",
    "                return datetime_obj\n",
    "    else:\n",
    "        return x\n",
    "\n",
    "Merged['Release Date'] = Merged['Release Date'].astype('str').map(convert_to_datetime_releasedate)"
   ]
  },
  {
   "cell_type": "code",
   "execution_count": 15,
   "metadata": {
    "collapsed": false
   },
   "outputs": [],
   "source": [
    "Merged['Time Diff'] = Merged['Release Date']-Merged['publish_date']"
   ]
  },
  {
   "cell_type": "code",
   "execution_count": 16,
   "metadata": {
    "collapsed": false
   },
   "outputs": [],
   "source": [
    "Merged['Time Diff']\n",
    "Merged.to_csv('Merged_Dataset_new.csv', encoding='utf-8')"
   ]
  },
  {
   "cell_type": "code",
   "execution_count": null,
   "metadata": {
    "collapsed": true
   },
   "outputs": [],
   "source": []
  }
 ],
 "metadata": {
  "kernelspec": {
   "display_name": "Python 2",
   "language": "python",
   "name": "python2"
  },
  "language_info": {
   "codemirror_mode": {
    "name": "ipython",
    "version": 2
   },
   "file_extension": ".py",
   "mimetype": "text/x-python",
   "name": "python",
   "nbconvert_exporter": "python",
   "pygments_lexer": "ipython2",
   "version": "2.7.12"
  }
 },
 "nbformat": 4,
 "nbformat_minor": 0
}
