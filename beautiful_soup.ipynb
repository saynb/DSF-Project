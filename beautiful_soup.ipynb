{
 "cells": [
  {
   "cell_type": "code",
   "execution_count": null,
   "metadata": {
    "collapsed": true
   },
   "outputs": [],
   "source": [
    "%matplotlib inline\n",
    "import matplotlib as mlp\n",
    "import scipy\n",
    "import numpy as np\n",
    "import sympy\n",
    "from mpl_toolkits.basemap import Basemap\n",
    "import matplotlib.pyplot as plt\n",
    "import pandas as pd\n",
    "from mpl_toolkits.basemap import Basemap\n",
    "from matplotlib.patches import Polygon\n",
    "from matplotlib.collections import PatchCollection\n",
    "from sklearn.preprocessing import scale\n",
    "from scipy.stats.stats import spearmanr \n",
    "from sklearn.linear_model import LinearRegression\n",
    "from sklearn import cross_validation\n",
    "from sklearn import metrics\n",
    "import scipy.sparse as sps\n",
    "import math\n",
    "from bs4 import BeautifulSoup\n",
    "import requests\n"
   ]
  },
  {
   "cell_type": "code",
   "execution_count": null,
   "metadata": {
    "collapsed": false
   },
   "outputs": [],
   "source": [
    "\n",
    "\n",
    "def clean_text(text):\n",
    "    \"\"\" Removes white-spaces before, after, and between characters\n",
    "\n",
    "    :param text: the string to remove clean\n",
    "    :return: a \"cleaned\" string with no more than one white space between\n",
    "    characters\n",
    "    \"\"\"\n",
    "    return ' '.join(text.split())\n",
    "\n",
    "\n",
    "link = 'https://www.goodreads.com/book/show/968.The_Da_Vinci_Code'\n",
    "book_page = requests.get(link)\n",
    "\n",
    "# Strain the items from the book page\n",
    "\n",
    "df_book = pd.DataFrame({'Book Name' : [],'Author' : [], 'Awards List' : [], 'Genres' : []})\n",
    "\n",
    "print df_book\n",
    "\n",
    "\n",
    "\n",
    "#TODO :\n",
    "# 1. Clean awards to trim ..more , ..less\n",
    "# 2. Delimit by commas\n",
    "# 3. Make a pandas dataframe and put into it the data for the book\n",
    "\n",
    "soup = BeautifulSoup(book_page.content,\"lxml\")\n",
    "\n",
    "#Book Name\n",
    "book_name = soup.find_all('h1',attrs={\"class\":'bookTitle'})[0].text\n",
    "book_name = clean_text(book_name)\n",
    "\n",
    "#Author\n",
    "author = soup.find_all('a',attrs={\"class\":'authorName'})[0].text\n",
    "\n",
    "#Awards\n",
    "for row in soup.find_all('div',attrs={\"class\":'infoBoxRowItem',\"itemprop\":'awards'}):\n",
    "        print row.text\n",
    "        awards_string = row.text\n",
    "\n",
    "#Genres\n",
    "genre_list = []\n",
    "for row in soup.find_all('a',attrs={\"class\":'actionLinkLite bookPageGenreLink'}):\n",
    "        print row.text\n",
    "        genre_list.append(row.text)\n",
    "\n",
    "\n",
    "df = pd.DataFrame({'Book Name':book_name, 'Author':author, 'Awards List':awards_string, 'Genres':[genre_list]})\n",
    "df_book = df_book.append(df)\n",
    "\n",
    "df_book\n"
   ]
  },
  {
   "cell_type": "code",
   "execution_count": null,
   "metadata": {
    "collapsed": true
   },
   "outputs": [],
   "source": []
  },
  {
   "cell_type": "code",
   "execution_count": null,
   "metadata": {
    "collapsed": true
   },
   "outputs": [],
   "source": []
  }
 ],
 "metadata": {
  "kernelspec": {
   "display_name": "Python 2",
   "language": "python",
   "name": "python2"
  },
  "language_info": {
   "codemirror_mode": {
    "name": "ipython",
    "version": 2
   },
   "file_extension": ".py",
   "mimetype": "text/x-python",
   "name": "python",
   "nbconvert_exporter": "python",
   "pygments_lexer": "ipython2",
   "version": "2.7.12"
  }
 },
 "nbformat": 4,
 "nbformat_minor": 1
}
