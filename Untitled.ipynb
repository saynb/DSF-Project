{
 "cells": [
  {
   "cell_type": "code",
   "execution_count": 224,
   "metadata": {
    "collapsed": true
   },
   "outputs": [],
   "source": [
    "%matplotlib inline\n",
    "import matplotlib as mlp\n",
    "import scipy\n",
    "import numpy as np\n",
    "import sympy\n",
    "from mpl_toolkits.basemap import Basemap\n",
    "import matplotlib.pyplot as plt\n",
    "import pandas as pd\n",
    "from mpl_toolkits.basemap import Basemap\n",
    "from matplotlib.patches import Polygon\n",
    "from matplotlib.collections import PatchCollection\n",
    "from sklearn.preprocessing import scale\n",
    "from scipy.stats.stats import spearmanr \n",
    "from sklearn.linear_model import LinearRegression\n",
    "from sklearn import cross_validation\n",
    "from sklearn import metrics\n",
    "import scipy.sparse as sps\n",
    "import math\n",
    "from bs4 import BeautifulSoup\n",
    "import requests\n",
    "import re\n",
    "import fileinput\n",
    "\n",
    "\n",
    "df = pd.read_csv('Merged_Dataset_new.csv');\n"
   ]
  },
  {
   "cell_type": "code",
   "execution_count": 225,
   "metadata": {
    "collapsed": false
   },
   "outputs": [],
   "source": [
    "df = df.drop('Unnamed: 0', axis=1)\n",
    "df = df.drop_duplicates(subset=['New Book Name'], keep='last')\n",
    "df = df.set_index([range(df['Link'].values.size)])"
   ]
  },
  {
   "cell_type": "code",
   "execution_count": 226,
   "metadata": {
    "collapsed": false
   },
   "outputs": [
    {
     "name": "stdout",
     "output_type": "stream",
     "text": [
      "Index([u'Link', u'New Book Name', u'Budget', u'Gross', u'Opening', u'Author',\n",
      "       u'Awards List', u'Book Name', u'Characters', u'Genres', u'Num_reviews',\n",
      "       u'Other editions', u'Star votes', u'Stars', u'Award Count'],\n",
      "      dtype='object')\n"
     ]
    }
   ],
   "source": [
    "print df.columns"
   ]
  },
  {
   "cell_type": "code",
   "execution_count": 227,
   "metadata": {
    "collapsed": false
   },
   "outputs": [],
   "source": [
    "df['Budget'] = df['Budget'].astype(str).map(lambda x: float(x[3:])*0.74 if 'CAD' in x else float(x))\n",
    "#df['Budget'] = df['Budget'].fillna(df['Budget'].mean())\n",
    "\n",
    "df['Gross'] = df['Gross'].astype(str).map(lambda x: float(x[3:])*0.74 if 'CAD' in x else float(x))\n",
    "#df['Gross'] = df['Gross'].fillna(df['Gross'].mean())\n",
    "\n",
    "df['Opening'] = df['Opening'].astype(str).map(lambda x: float(x[3:])*0.74 if 'CAD' in x else float(x))\n",
    "#df['Opening'] = df['Opening'].fillna(df['Opening'].mean())"
   ]
  },
  {
   "cell_type": "code",
   "execution_count": 228,
   "metadata": {
    "collapsed": false
   },
   "outputs": [],
   "source": [
    "# Make Histograms for Budget, Gross, Opening and Award Count"
   ]
  },
  {
   "cell_type": "code",
   "execution_count": 229,
   "metadata": {
    "collapsed": false
   },
   "outputs": [],
   "source": [
    "df['Num Characters'] = df['Characters'].astype('str').map(lambda x: 0 if (x=='nan' or x=='[]') else len(x.split(',')))"
   ]
  },
  {
   "cell_type": "code",
   "execution_count": 230,
   "metadata": {
    "collapsed": false
   },
   "outputs": [],
   "source": [
    "genre_dict = dict()\n",
    "\n",
    "temp = df['Genres'].astype('str').map(lambda x: x[1:-1].split(',') if (x!='nan') else '')"
   ]
  },
  {
   "cell_type": "code",
   "execution_count": 231,
   "metadata": {
    "collapsed": false
   },
   "outputs": [],
   "source": [
    "arr = temp.values\n",
    "\n",
    "for i in range(len(arr)):\n",
    "    for j in range(len(arr[i])):\n",
    "        try:\n",
    "            genre_dict[arr[i][j].strip()] +=1\n",
    "        except Exception:\n",
    "            genre_dict[arr[i][j].strip()] = 1\n",
    "\n"
   ]
  },
  {
   "cell_type": "code",
   "execution_count": 232,
   "metadata": {
    "collapsed": false
   },
   "outputs": [],
   "source": [
    "gdlist = sorted(genre_dict, key=genre_dict.get, reverse=True)\n",
    "\n"
   ]
  },
  {
   "cell_type": "code",
   "execution_count": 233,
   "metadata": {
    "collapsed": false
   },
   "outputs": [],
   "source": [
    "temp = df['Star votes'].astype('str').map(lambda x: x[1:-1].split(',') if (x!='nan') else '')"
   ]
  },
  {
   "cell_type": "code",
   "execution_count": 243,
   "metadata": {
    "collapsed": false
   },
   "outputs": [
    {
     "name": "stdout",
     "output_type": "stream",
     "text": [
      "[['1034870', ' 465700', ' 172382', ' 30373', ' 9205']\n",
      " ['1250122', ' 808886', ' 733683', ' 405541', ' 426614']\n",
      " ['1072715', ' 461432', ' 144245', ' 19130', ' 6149'] ..., '' '' '']\n",
      "                                              0\n",
      "0        [1034870, 465700, 172382, 30373, 9205]\n",
      "1     [1250122, 808886, 733683, 405541, 426614]\n",
      "2        [1072715, 461432, 144245, 19130, 6149]\n",
      "3        [1134771, 474706, 158173, 19477, 6170]\n",
      "4      [2618275, 1045016, 421292, 93754, 66288]\n",
      "5         [946524, 504408, 229622, 40576, 7665]\n",
      "6        [1051669, 431126, 130131, 20577, 6825]\n",
      "7        [371142, 311763, 224465, 83905, 48143]\n",
      "8        [519698, 487750, 247326, 56928, 22573]\n",
      "9           [147102, 83185, 56215, 14164, 5978]\n",
      "10       [1196971, 358976, 107944, 21200, 8772]\n",
      "11       [651687, 465520, 240708, 51325, 17269]\n",
      "12       [348095, 290050, 186802, 61504, 36716]\n",
      "13       [613660, 393488, 200959, 44348, 16515]\n",
      "14          [271550, 161152, 58708, 7673, 2337]\n",
      "15         [120925, 105157, 76814, 19310, 6338]\n",
      "16      [334591, 278020, 280598, 153407, 98275]\n",
      "17      [1049923, 558998, 262986, 80229, 49771]\n",
      "18           [17920, 28249, 31808, 16299, 9513]\n",
      "19     [1565321, 923981, 417528, 110486, 56424]\n",
      "20       [435684, 318658, 177836, 37854, 15929]\n",
      "21       [235879, 249295, 165734, 41098, 14207]\n",
      "22    [2488836, 1340495, 498988, 113515, 57579]\n",
      "23      [606913, 652302, 423770, 136028, 70958]\n",
      "24           [138083, 59752, 30954, 6728, 3075]\n",
      "25         [135178, 132236, 81867, 21732, 7328]\n",
      "26      [382343, 296128, 248374, 118270, 79324]\n",
      "27         [271771, 171997, 85895, 21670, 9982]\n",
      "28       [937949, 452662, 187814, 52021, 35058]\n",
      "29          [255738, 100648, 35732, 9194, 4579]\n",
      "...                                         ...\n",
      "1442                  [245, 419, 413, 256, 131]\n",
      "1443                   [1602, 606, 189, 34, 20]\n",
      "1444         [172510, 85818, 28351, 4326, 1698]\n",
      "1445                  [890, 1030, 830, 189, 75]\n",
      "1446                           [7, 6, 12, 3, 2]\n",
      "1447                    [332, 567, 346, 54, 15]\n",
      "1448                [1016, 2170, 1476, 321, 59]\n",
      "1449     [127896, 148520, 128160, 64214, 40006]\n",
      "1450                        [22, 48, 42, 20, 1]\n",
      "1451               [4376, 6143, 4660, 938, 149]\n",
      "1452                    [257, 278, 135, 35, 10]\n",
      "1453                    [358, 491, 250, 56, 11]\n",
      "1454               [4770, 4531, 2657, 754, 276]\n",
      "1455                    [198, 194, 161, 42, 12]\n",
      "1456                        [104, 88, 41, 7, 1]\n",
      "1457                    [248, 288, 163, 53, 18]\n",
      "1458                     [172, 244, 185, 31, 4]\n",
      "1459              [4432, 3986, 3293, 1324, 667]\n",
      "1460               [2856, 2518, 2534, 533, 158]\n",
      "1461       [141421, 99541, 76527, 39528, 32709]\n",
      "1462                 [1177, 1020, 928, 163, 37]\n",
      "1463               [5382, 4043, 3775, 850, 269]\n",
      "1464                    [394, 547, 394, 97, 22]\n",
      "1465                [1213, 1818, 1139, 194, 49]\n",
      "1466                                        NaN\n",
      "1467                                        NaN\n",
      "1468                                        NaN\n",
      "1469                                        NaN\n",
      "1470                                        NaN\n",
      "1471                                        NaN\n",
      "\n",
      "[1472 rows x 1 columns]\n"
     ]
    }
   ],
   "source": [
    "print temp\n",
    "name = 'Rating'\n",
    "print pd.DataFrame(df['Star votes'].tolist()).iloc[:,:]\n",
    "# for i in range(5):\n",
    "#     df[name+str(i+1)] = pd.DataFrame(df['Star votes'].tolist()).iloc[:,:], columns=[name+str(i+1)])"
   ]
  },
  {
   "cell_type": "code",
   "execution_count": null,
   "metadata": {
    "collapsed": true
   },
   "outputs": [],
   "source": []
  }
 ],
 "metadata": {
  "kernelspec": {
   "display_name": "Python 2",
   "language": "python",
   "name": "python2"
  },
  "language_info": {
   "codemirror_mode": {
    "name": "ipython",
    "version": 2
   },
   "file_extension": ".py",
   "mimetype": "text/x-python",
   "name": "python",
   "nbconvert_exporter": "python",
   "pygments_lexer": "ipython2",
   "version": "2.7.11"
  }
 },
 "nbformat": 4,
 "nbformat_minor": 0
}
