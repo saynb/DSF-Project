{
 "cells": [
  {
   "cell_type": "code",
   "execution_count": 252,
   "metadata": {
    "collapsed": true
   },
   "outputs": [],
   "source": [
    "%matplotlib inline\n",
    "import matplotlib as mlp\n",
    "import scipy\n",
    "import numpy as np\n",
    "import sympy\n",
    "from mpl_toolkits.basemap import Basemap\n",
    "import matplotlib.pyplot as plt\n",
    "import pandas as pd\n",
    "from mpl_toolkits.basemap import Basemap\n",
    "from matplotlib.patches import Polygon\n",
    "from matplotlib.collections import PatchCollection\n",
    "from sklearn.preprocessing import scale\n",
    "from scipy.stats.stats import spearmanr \n",
    "from sklearn.linear_model import LinearRegression\n",
    "from sklearn import cross_validation\n",
    "from sklearn import metrics\n",
    "import scipy.sparse as sps\n",
    "import math\n",
    "from bs4 import BeautifulSoup\n",
    "import requests\n",
    "import re\n",
    "import fileinput\n",
    "\n",
    "\n",
    "df = pd.read_csv('Merged_Dataset_new.csv');\n"
   ]
  },
  {
   "cell_type": "code",
   "execution_count": 253,
   "metadata": {
    "collapsed": false
   },
   "outputs": [],
   "source": [
    "df = df.drop('Unnamed: 0', axis=1)\n",
    "df = df.drop_duplicates(subset=['New Book Name'], keep='last')\n",
    "df = df.set_index([range(df['Link'].values.size)])"
   ]
  },
  {
   "cell_type": "code",
   "execution_count": 254,
   "metadata": {
    "collapsed": false
   },
   "outputs": [
    {
     "name": "stdout",
     "output_type": "stream",
     "text": [
      "Index([u'Link', u'New Book Name', u'Budget', u'Gross', u'Opening', u'Author',\n",
      "       u'Awards List', u'Book Name', u'Characters', u'Genres', u'Num_reviews',\n",
      "       u'Other editions', u'Star votes', u'Stars', u'Award Count'],\n",
      "      dtype='object')\n"
     ]
    }
   ],
   "source": [
    "print df.columns"
   ]
  },
  {
   "cell_type": "code",
   "execution_count": 255,
   "metadata": {
    "collapsed": false
   },
   "outputs": [],
   "source": [
    "df['Budget'] = df['Budget'].astype(str).map(lambda x: float(x[3:])*0.74 if 'CAD' in x else float(x))\n",
    "#df['Budget'] = df['Budget'].fillna(df['Budget'].mean())\n",
    "\n",
    "df['Gross'] = df['Gross'].astype(str).map(lambda x: float(x[3:])*0.74 if 'CAD' in x else float(x))\n",
    "#df['Gross'] = df['Gross'].fillna(df['Gross'].mean())\n",
    "\n",
    "df['Opening'] = df['Opening'].astype(str).map(lambda x: float(x[3:])*0.74 if 'CAD' in x else float(x))\n",
    "#df['Opening'] = df['Opening'].fillna(df['Opening'].mean())"
   ]
  },
  {
   "cell_type": "code",
   "execution_count": 256,
   "metadata": {
    "collapsed": false
   },
   "outputs": [],
   "source": [
    "# Make Histograms for Budget, Gross, Opening and Award Count"
   ]
  },
  {
   "cell_type": "code",
   "execution_count": 257,
   "metadata": {
    "collapsed": false
   },
   "outputs": [],
   "source": [
    "df['Num Characters'] = df['Characters'].astype('str').map(lambda x: 0 if (x=='nan' or x=='[]') else len(x.split(',')))"
   ]
  },
  {
   "cell_type": "code",
   "execution_count": 258,
   "metadata": {
    "collapsed": false
   },
   "outputs": [],
   "source": [
    "genre_dict = dict()\n",
    "\n",
    "temp = df['Genres'].astype('str').map(lambda x: x[1:-1].split(',') if (x!='nan') else '')"
   ]
  },
  {
   "cell_type": "code",
   "execution_count": 259,
   "metadata": {
    "collapsed": false
   },
   "outputs": [],
   "source": [
    "arr = temp.values\n",
    "\n",
    "for i in range(len(arr)):\n",
    "    for j in range(len(arr[i])):\n",
    "        try:\n",
    "            genre_dict[arr[i][j].strip()] +=1\n",
    "        except Exception:\n",
    "            genre_dict[arr[i][j].strip()] = 1\n",
    "\n"
   ]
  },
  {
   "cell_type": "code",
   "execution_count": 260,
   "metadata": {
    "collapsed": false
   },
   "outputs": [],
   "source": [
    "gdlist = sorted(genre_dict, key=genre_dict.get, reverse=True)\n",
    "\n"
   ]
  },
  {
   "cell_type": "code",
   "execution_count": 303,
   "metadata": {
    "collapsed": false
   },
   "outputs": [],
   "source": [
    "temp = df['Star votes'].astype('str').map(lambda x: x[1:-1].split(',') if (x!='nan') else '')"
   ]
  },
  {
   "cell_type": "code",
   "execution_count": 307,
   "metadata": {
    "collapsed": false
   },
   "outputs": [],
   "source": [
    "# # print temp\n",
    "# name = 'Rating'\n",
    "# df['Star votes list'] = pd.DataFrame(df['Star votes'].tolist()).iloc[:,:]\n",
    "\n",
    "# r1 = r2 = r3 = r4 = r5 = []\n",
    "\n",
    "# for x in temp:\n",
    "#     a = float(x[0])\n",
    "#     r1.append(a)\n",
    "#     r2.append(float(x[1]))\n",
    "#     r3.append(float(x[2]))\n",
    "#     r4.append(float(x[3]))\n",
    "#     r5.append(float(x[4]))\n",
    "    \n",
    "# r1 = np.array(r1)\n",
    "# r2 = np.array(r2)\n",
    "# r3 = np.array(r3)\n",
    "# r4 = np.array(r4)\n",
    "# r5 = np.array(r5)\n",
    "\n",
    "# print r1"
   ]
  },
  {
   "cell_type": "code",
   "execution_count": 323,
   "metadata": {
    "collapsed": false
   },
   "outputs": [
    {
     "name": "stderr",
     "output_type": "stream",
     "text": [
      "C:\\Users\\HP\\AppData\\Local\\Enthought\\Canopy\\User\\lib\\site-packages\\ipykernel\\__main__.py:6: SettingWithCopyWarning: \n",
      "A value is trying to be set on a copy of a slice from a DataFrame.\n",
      "Try using .loc[row_indexer,col_indexer] = value instead\n",
      "\n",
      "See the caveats in the documentation: http://pandas.pydata.org/pandas-docs/stable/indexing.html#indexing-view-versus-copy\n"
     ]
    }
   ],
   "source": [
    "df['Score'] = (df['Gross']-df['Budget'])\n",
    "\n",
    "final_df = df[['Score','Budget','Gross','Opening','Num Characters','Award Count','Num_reviews','Stars']]\n",
    "\n",
    "for i in final_df.columns.values:\n",
    "    final_df[i] = final_df[i].fillna(final_df[i].mean())"
   ]
  },
  {
   "cell_type": "code",
   "execution_count": 329,
   "metadata": {
    "collapsed": false
   },
   "outputs": [
    {
     "data": {
      "text/html": [
       "<div>\n",
       "<table border=\"1\" class=\"dataframe\">\n",
       "  <thead>\n",
       "    <tr style=\"text-align: right;\">\n",
       "      <th></th>\n",
       "      <th>Score</th>\n",
       "      <th>Budget</th>\n",
       "      <th>Gross</th>\n",
       "      <th>Opening</th>\n",
       "      <th>Num Characters</th>\n",
       "      <th>Award Count</th>\n",
       "      <th>Num_reviews</th>\n",
       "      <th>Stars</th>\n",
       "    </tr>\n",
       "  </thead>\n",
       "  <tbody>\n",
       "    <tr>\n",
       "      <th>Score</th>\n",
       "      <td>1.000000</td>\n",
       "      <td>0.021634</td>\n",
       "      <td>0.827631</td>\n",
       "      <td>0.599320</td>\n",
       "      <td>0.144346</td>\n",
       "      <td>0.166173</td>\n",
       "      <td>0.293555</td>\n",
       "      <td>0.087386</td>\n",
       "    </tr>\n",
       "    <tr>\n",
       "      <th>Budget</th>\n",
       "      <td>0.021634</td>\n",
       "      <td>1.000000</td>\n",
       "      <td>0.579047</td>\n",
       "      <td>0.594817</td>\n",
       "      <td>0.097105</td>\n",
       "      <td>0.130619</td>\n",
       "      <td>0.187393</td>\n",
       "      <td>0.084481</td>\n",
       "    </tr>\n",
       "    <tr>\n",
       "      <th>Gross</th>\n",
       "      <td>0.827631</td>\n",
       "      <td>0.579047</td>\n",
       "      <td>1.000000</td>\n",
       "      <td>0.822669</td>\n",
       "      <td>0.172227</td>\n",
       "      <td>0.208842</td>\n",
       "      <td>0.344593</td>\n",
       "      <td>0.118690</td>\n",
       "    </tr>\n",
       "    <tr>\n",
       "      <th>Opening</th>\n",
       "      <td>0.599320</td>\n",
       "      <td>0.594817</td>\n",
       "      <td>0.822669</td>\n",
       "      <td>1.000000</td>\n",
       "      <td>0.174644</td>\n",
       "      <td>0.217226</td>\n",
       "      <td>0.366034</td>\n",
       "      <td>0.098140</td>\n",
       "    </tr>\n",
       "    <tr>\n",
       "      <th>Num Characters</th>\n",
       "      <td>0.144346</td>\n",
       "      <td>0.097105</td>\n",
       "      <td>0.172227</td>\n",
       "      <td>0.174644</td>\n",
       "      <td>1.000000</td>\n",
       "      <td>0.199738</td>\n",
       "      <td>0.351883</td>\n",
       "      <td>0.141374</td>\n",
       "    </tr>\n",
       "    <tr>\n",
       "      <th>Award Count</th>\n",
       "      <td>0.166173</td>\n",
       "      <td>0.130619</td>\n",
       "      <td>0.208842</td>\n",
       "      <td>0.217226</td>\n",
       "      <td>0.199738</td>\n",
       "      <td>1.000000</td>\n",
       "      <td>0.551730</td>\n",
       "      <td>0.124732</td>\n",
       "    </tr>\n",
       "    <tr>\n",
       "      <th>Num_reviews</th>\n",
       "      <td>0.293555</td>\n",
       "      <td>0.187393</td>\n",
       "      <td>0.344593</td>\n",
       "      <td>0.366034</td>\n",
       "      <td>0.351883</td>\n",
       "      <td>0.551730</td>\n",
       "      <td>1.000000</td>\n",
       "      <td>0.152999</td>\n",
       "    </tr>\n",
       "    <tr>\n",
       "      <th>Stars</th>\n",
       "      <td>0.087386</td>\n",
       "      <td>0.084481</td>\n",
       "      <td>0.118690</td>\n",
       "      <td>0.098140</td>\n",
       "      <td>0.141374</td>\n",
       "      <td>0.124732</td>\n",
       "      <td>0.152999</td>\n",
       "      <td>1.000000</td>\n",
       "    </tr>\n",
       "  </tbody>\n",
       "</table>\n",
       "</div>"
      ],
      "text/plain": [
       "                   Score    Budget     Gross   Opening  Num Characters  \\\n",
       "Score           1.000000  0.021634  0.827631  0.599320        0.144346   \n",
       "Budget          0.021634  1.000000  0.579047  0.594817        0.097105   \n",
       "Gross           0.827631  0.579047  1.000000  0.822669        0.172227   \n",
       "Opening         0.599320  0.594817  0.822669  1.000000        0.174644   \n",
       "Num Characters  0.144346  0.097105  0.172227  0.174644        1.000000   \n",
       "Award Count     0.166173  0.130619  0.208842  0.217226        0.199738   \n",
       "Num_reviews     0.293555  0.187393  0.344593  0.366034        0.351883   \n",
       "Stars           0.087386  0.084481  0.118690  0.098140        0.141374   \n",
       "\n",
       "                Award Count  Num_reviews     Stars  \n",
       "Score              0.166173     0.293555  0.087386  \n",
       "Budget             0.130619     0.187393  0.084481  \n",
       "Gross              0.208842     0.344593  0.118690  \n",
       "Opening            0.217226     0.366034  0.098140  \n",
       "Num Characters     0.199738     0.351883  0.141374  \n",
       "Award Count        1.000000     0.551730  0.124732  \n",
       "Num_reviews        0.551730     1.000000  0.152999  \n",
       "Stars              0.124732     0.152999  1.000000  "
      ]
     },
     "execution_count": 329,
     "metadata": {},
     "output_type": "execute_result"
    }
   ],
   "source": [
    "corr_mat = final_df.corr(method=\"pearson\")\n",
    "corr_mat"
   ]
  },
  {
   "cell_type": "code",
   "execution_count": null,
   "metadata": {
    "collapsed": true
   },
   "outputs": [],
   "source": []
  }
 ],
 "metadata": {
  "kernelspec": {
   "display_name": "Python 2",
   "language": "python",
   "name": "python2"
  },
  "language_info": {
   "codemirror_mode": {
    "name": "ipython",
    "version": 2
   },
   "file_extension": ".py",
   "mimetype": "text/x-python",
   "name": "python",
   "nbconvert_exporter": "python",
   "pygments_lexer": "ipython2",
   "version": "2.7.11"
  }
 },
 "nbformat": 4,
 "nbformat_minor": 0
}
