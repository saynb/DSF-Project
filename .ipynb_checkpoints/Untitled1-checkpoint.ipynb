{
 "cells": [
  {
   "cell_type": "code",
   "execution_count": 2,
   "metadata": {
    "collapsed": false
   },
   "outputs": [
    {
     "name": "stdout",
     "output_type": "stream",
     "text": [
      "Link(base_url='https://www.goodreads.com/list/show/429.The_BOOK_was_BETTER_than_the_MOVIE', url='/choiceawards/best-books-2016?cc=4f19e7eb', text='', tag='a', attrs=[('href', '/choiceawards/best-books-2016?cc=4f19e7eb'), ('class', 'siteHeader__logo siteHeader__logo--doodle'), ('title', 'Goodreads Home'), ('data-reactid', '.22dj81h7lz4.0.0')])\n",
      "<Browser visiting https://www.goodreads.com/choiceawards/best-books-2016?cc=4f19e7eb>\n",
      "Link(base_url='https://www.goodreads.com/list/show/429.The_BOOK_was_BETTER_than_the_MOVIE', url='/', text='Home', tag='a', attrs=[('href', '/'), ('class', 'siteHeader__topLevelLink'), ('data-reactid', '.22dj81h7lz4.0.1.0.0.0')])\n",
      "<Browser visiting https://www.goodreads.com/>\n",
      "(<Element script at 0x111bea7e0>, 'src', 'https://s.gr-assets.com/assets/webfontloader-059a594e3caaed07fca2a8c7e799c310.js', 0)\n",
      "(<Element link at 0x111bea788>, 'href', 'https://s.gr-assets.com/assets/goodreads-7a5842a371d94308fbb65849cfdfee23.css', 0)\n",
      "(<Element link at 0x111bea7e0>, 'href', 'https://s.gr-assets.com/assets/common_images-67dd60a681af04727cf7d18f5c5ba498.css', 0)\n",
      "(<Element script at 0x111bea730>, 'src', 'https://s.gr-assets.com/assets/desktop/libraries-683ac19ac610a8a4349078ae93abe779.js', 0)\n",
      "(<Element script at 0x111bea788>, 'src', 'https://s.gr-assets.com/assets/application-e74e4a8c68951a142565657d28de5ed4.js', 0)\n",
      "(<Element script at 0x111bea838>, 'src', '//c.amazon-adsystem.com/aax2/amzn_ads.js', 0)\n",
      "(<Element link at 0x111bea730>, 'href', 'https://www.goodreads.com/list/show/429.The_BOOK_was_BETTER_than_the_MOVIE', 0)\n",
      "(<Element script at 0x111bea7e0>, 'src', 'https://s.gr-assets.com/assets/react_client_side/external_dependencies-94532428bf.js', 0)\n",
      "(<Element script at 0x111bea838>, 'src', 'https://s.gr-assets.com/assets/react_client_side/site_header-d5e7a18e53.js', 0)\n",
      "(<Element script at 0x111bea730>, 'src', 'https://s.gr-assets.com/assets/react_ujs-f00feeb1a44854a745b8789cf56dc3d9.js', 0)\n",
      "(<Element link at 0x111bea788>, 'href', '/opensearch.xml', 0)\n",
      "(<Element a at 0x111bea7e0>, 'href', '/choiceawards/best-books-2016?cc=4f19e7eb', 0)\n",
      "(<Element a at 0x111bea730>, 'href', '/', 0)\n",
      "(<Element a at 0x111bea7e0>, 'href', '/review/list', 0)\n"
     ]
    }
   ],
   "source": [
    "import mechanize\n",
    "import lxml.html\n",
    "\n",
    "br = mechanize.Browser()\n",
    "response = br.open(\"https://www.goodreads.com/list/show/429.The_BOOK_was_BETTER_than_the_MOVIE\")\n",
    "\n",
    "for link in br.links():\n",
    "    print link\n",
    "    br.follow_link(link)  # takes EITHER Link instance OR keyword args\n",
    "    print br\n",
    "    br.back()\n",
    "\n",
    "# you can also display the links with lxml\n",
    "html = response.read()\n",
    "root = lxml.html.fromstring(html)\n",
    "for link in root.iterlinks():\n",
    "    print link\n",
    "    \n"
   ]
  },
  {
   "cell_type": "code",
   "execution_count": null,
   "metadata": {
    "collapsed": true
   },
   "outputs": [],
   "source": []
  }
 ],
 "metadata": {
  "kernelspec": {
   "display_name": "Python 2",
   "language": "python",
   "name": "python2"
  },
  "language_info": {
   "codemirror_mode": {
    "name": "ipython",
    "version": 2
   },
   "file_extension": ".py",
   "mimetype": "text/x-python",
   "name": "python",
   "nbconvert_exporter": "python",
   "pygments_lexer": "ipython2",
   "version": "2.7.12"
  }
 },
 "nbformat": 4,
 "nbformat_minor": 1
}
