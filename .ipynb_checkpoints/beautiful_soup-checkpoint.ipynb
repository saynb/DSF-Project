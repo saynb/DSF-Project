{
 "cells": [
  {
   "cell_type": "code",
   "execution_count": 38,
   "metadata": {
    "collapsed": false
   },
   "outputs": [
    {
     "name": "stdout",
     "output_type": "stream",
     "text": [
      "\n",
      "British Book Award for Book of the Year (2005), Book Sense Book of the Year Award for Adult Fiction (2004), Humo's Gouden Bladwijzer (2004), Zilveren Vingerafdruk (2004), The Flume: New Hampshire Teen Reader's Choice Award (2006)\n",
      "...more\n",
      "Teen Buckeye Book Award (2005), Iowa High School Book Award (2006), Puddly Award for Fiction (2007), Missouri Gateway Readers Award for Adult (2006)\n",
      "...less \n",
      "Fiction\n",
      "Suspense\n",
      "Historical Fiction\n",
      "Adventure\n",
      "Thriller\n",
      "Mystery Thriller\n",
      "Novels\n",
      "Dan Brown\n"
     ]
    }
   ],
   "source": [
    "from bs4 import BeautifulSoup\n",
    "import requests\n",
    "\n",
    "\n",
    "def clean_text(text):\n",
    "    \"\"\" Removes white-spaces before, after, and between characters\n",
    "\n",
    "    :param text: the string to remove clean\n",
    "    :return: a \"cleaned\" string with no more than one white space between\n",
    "    characters\n",
    "    \"\"\"\n",
    "    return ' '.join(text.split())\n",
    "\n",
    "\n",
    "link = 'https://www.goodreads.com/book/show/968.The_Da_Vinci_Code'\n",
    "book_page = requests.get(link)\n",
    "\n",
    "# Strain the cast_list table from the book page\n",
    "soup = BeautifulSoup(book_page.content,\"lxml\")\n",
    "\n",
    "\n",
    "for row in soup.find_all('div',attrs={\"class\":'infoBoxRowItem',\"itemprop\":'awards'}):\n",
    "        print row.text\n",
    "\n",
    "        \n",
    "for row in soup.find_all('a',attrs={\"class\":'actionLinkLite bookPageGenreLink'}):\n",
    "        print row.text\n",
    "\n",
    "print soup.find_all('a',attrs={\"class\":'authorName'})[0].text\n",
    "\n",
    "\n",
    "\n"
   ]
  },
  {
   "cell_type": "code",
   "execution_count": null,
   "metadata": {
    "collapsed": true
   },
   "outputs": [],
   "source": []
  },
  {
   "cell_type": "code",
   "execution_count": null,
   "metadata": {
    "collapsed": true
   },
   "outputs": [],
   "source": []
  }
 ],
 "metadata": {
  "kernelspec": {
   "display_name": "Python 2",
   "language": "python",
   "name": "python2"
  },
  "language_info": {
   "codemirror_mode": {
    "name": "ipython",
    "version": 2
   },
   "file_extension": ".py",
   "mimetype": "text/x-python",
   "name": "python",
   "nbconvert_exporter": "python",
   "pygments_lexer": "ipython2",
   "version": "2.7.12"
  }
 },
 "nbformat": 4,
 "nbformat_minor": 1
}
